{
 "cells": [
  {
   "cell_type": "code",
   "execution_count": 229,
   "id": "45802177",
   "metadata": {},
   "outputs": [],
   "source": [
    "import numpy as np\n",
    "import matplotlib.pyplot as plt\n",
    "from scipy.interpolate import BarycentricInterpolator\n",
    "import random\n",
    "from matplotlib.animation import FuncAnimation\n",
    "import matplotlib \n",
    "matplotlib.use('Qt5Agg')"
   ]
  },
  {
   "cell_type": "code",
   "execution_count": 230,
   "id": "11053726",
   "metadata": {},
   "outputs": [],
   "source": [
    "def chebyshev_nodes(n, a, b):\n",
    "    nodes = []\n",
    "    for i in range(n):\n",
    "        xi = 0.5*(a+b)+0.5*(b-a)*np.cos((2*i+1)*np.pi/(2*n))\n",
    "        nodes.append(xi)\n",
    "    return np.array(nodes)\n",
    "\n",
    "def f(x):\n",
    "    return np.cos(2*x)\n",
    "\n",
    "pn = 200\n",
    "n = 15\n",
    "g = 200\n",
    "q = g\n",
    "a, b = -np.pi, np.pi \n",
    "nodes = chebyshev_nodes(n, a, b)\n",
    "values = f(nodes)\n",
    "nodes1 = np.linspace(a,b,n)\n",
    "value = f(nodes1)\n",
    "x = np.linspace(a, b, 1000)\n",
    "y = f(x)"
   ]
  },
  {
   "cell_type": "code",
   "execution_count": 231,
   "id": "3de15320",
   "metadata": {},
   "outputs": [],
   "source": [
    "def population(n,pn):\n",
    "    values1 = []\n",
    "    for _ in range(pn):\n",
    "        values1.append(np.random.rand(n))\n",
    "    return values1\n",
    "\n",
    "def evo(pn,values1,values):\n",
    "    values2 = []\n",
    "    for i in range(pn):\n",
    "        vv = values1.pop(0)\n",
    "        v1,v2,v3 = random.sample(values1,3)\n",
    "        values2.append(v1+0.5*(v2-v3))\n",
    "        values1.append(vv)\n",
    "\n",
    "    cr = 0.5\n",
    "    values3 = []\n",
    "    for i in range(pn):\n",
    "        if random.random() < cr:\n",
    "            values3.append(values2[i])\n",
    "        else: \n",
    "            values3.append(values1[i])\n",
    "\n",
    "    values4 = []\n",
    "    for i in range(pn):\n",
    "        vv1 = values1[i] - values\n",
    "        vv2 = values3[i] - values\n",
    "        if np.mean(vv1**2) < np.mean(vv2**2):\n",
    "            values4.append(values1[i])\n",
    "        else:\n",
    "            values4.append(values3[i])\n",
    "    return values4"
   ]
  },
  {
   "cell_type": "code",
   "execution_count": 232,
   "id": "bff6d612",
   "metadata": {},
   "outputs": [],
   "source": [
    "def DE(n,pn,g,values):\n",
    "    a = population(n,pn)\n",
    "    b = []\n",
    "    result = []\n",
    "    va = []\n",
    "    for i in range(pn):\n",
    "        b.append(np.mean((a[i]-values)**2))\n",
    "    c = b.index(min(b))\n",
    "    va.append(min(b))\n",
    "    result.append(a[c])\n",
    "    for i in range(g):\n",
    "        b = []\n",
    "        d = evo(pn,a,values)\n",
    "        for i in range(pn):\n",
    "            b.append(np.mean((d[i]-values)**2))\n",
    "        c = b.index(min(b))\n",
    "        result.append(a[c])\n",
    "        va.append(min(b))\n",
    "        a = d\n",
    "    return result,va\n",
    "\n",
    "res = DE(n,pn,g,values)\n",
    "interpolator = BarycentricInterpolator(nodes, res[0][q])\n",
    "\n",
    "res1 = DE(n,pn,g,value)\n",
    "interpolator1 = BarycentricInterpolator(nodes1, res1[0][q])"
   ]
  },
  {
   "cell_type": "code",
   "execution_count": 233,
   "id": "9a8decfd",
   "metadata": {},
   "outputs": [],
   "source": [
    "# plt.figure(figsize=(8, 6))\n",
    "plt.subplots()\n",
    "plt.plot(x, y, color='blue', linestyle='--')\n",
    "plt.scatter(nodes, res[0][q], color='red', zorder=5)\n",
    "plt.plot(x, interpolator1(x), color='green')\n",
    "\n",
    "# plt.subplots()\n",
    "# plt.scatter(range(0,201), res[1], color='b', zorder=5)\n",
    "# plt.plot(range(0,201), res[1], color='b', zorder=5)\n",
    "\n",
    "\n",
    "# plt.scatter(nodes1, res1[0][q], color='b', zorder=5)\n",
    "# plt.plot(x, interpolator1(x))\n",
    "\n",
    "plt.xlabel(\"x\")\n",
    "plt.ylabel(\"y\")\n",
    "plt.grid(True)"
   ]
  },
  {
   "cell_type": "code",
   "execution_count": 234,
   "id": "ca948112",
   "metadata": {},
   "outputs": [],
   "source": [
    "# bn = []\n",
    "# for i in range(g):\n",
    "#     bn.append(BarycentricInterpolator(nodes, res[0][i]))\n",
    "\n",
    "# fig, ax = plt.subplots()\n",
    "# line, = ax.plot(x,bn[0](x))\n",
    "# line1, = ax.plot(x,f(x))\n",
    "\n",
    "# def animate(i):\n",
    "#     line.set_ydata(bn[i](x)) \n",
    "#     return line,\n",
    "# ax.set(xlim=(a, b),ylim=(-1.5,1.5))\n",
    "# animation = FuncAnimation(fig, animate, frames=200, interval=100)\n",
    "\n",
    "# fig1, ax1 = plt.subplots()\n",
    "\n",
    "# line2, = ax1.plot([],[])\n",
    "# def animate2(i):\n",
    "#     y = [res[1][:i]]\n",
    "#     line2.set_data(range(0,i),y) \n",
    "#     return line2,\n",
    "\n",
    "# ax1.set(xlim=(0, 200),ylim=(0,0.4))\n",
    "\n",
    "# animation2 = FuncAnimation(fig1, animate2, frames=200, interval=100)\n",
    "\n",
    "# plt.grid(True)\n",
    "plt.show()"
   ]
  },
  {
   "cell_type": "code",
   "execution_count": 241,
   "id": "737a0e54",
   "metadata": {},
   "outputs": [
    {
     "name": "stdout",
     "output_type": "stream",
     "text": [
      "-0.4487989505128276\n"
     ]
    }
   ],
   "source": [
    "print(nodes1[3]-nodes1[4])"
   ]
  }
 ],
 "metadata": {
  "kernelspec": {
   "display_name": "Python 3",
   "language": "python",
   "name": "python3"
  },
  "language_info": {
   "codemirror_mode": {
    "name": "ipython",
    "version": 3
   },
   "file_extension": ".py",
   "mimetype": "text/x-python",
   "name": "python",
   "nbconvert_exporter": "python",
   "pygments_lexer": "ipython3",
   "version": "3.12.7"
  }
 },
 "nbformat": 4,
 "nbformat_minor": 5
}
